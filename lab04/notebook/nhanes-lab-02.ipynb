{
 "cells": [
  {
   "cell_type": "code",
   "execution_count": 1,
   "metadata": {},
   "outputs": [],
   "source": [
    "%defaultDatasource jdbc:h2:mem:db"
   ]
  },
  {
   "cell_type": "markdown",
   "metadata": {},
   "source": [
    "# Analisando o Uso de Medicamentos\n",
    "* Esta tarefa analisará os dados conforme três abordagens: análise do comportamento estatístico; análise de correlação entre pares; análise de correlação de variáveis.\n",
    "* A partir dos arquivos CSV que estão no diretórios /data/nhanes considere as seguintes tabelas SQL."
   ]
  },
  {
   "cell_type": "code",
   "execution_count": 2,
   "metadata": {},
   "outputs": [],
   "source": [
    "CREATE TABLE Pessoa (\n",
    "  Id VARCHAR(5) NOT NULL,\n",
    "  Genero INTEGER,\n",
    "  Idade INTEGER,\n",
    "  PRIMARY KEY(Id)\n",
    ") AS SELECT\n",
    "    Id,\n",
    "    Genero,\n",
    "    Idade\n",
    "FROM CSVREAD('../../../data/nhanes/demographic-person.csv');\n",
    "\n",
    "CREATE TABLE Medicamento (\n",
    "  Codigo VARCHAR(6) NOT NULL,\n",
    "  NomeMedicamento VARCHAR(100) NOT NULL,\n",
    "  PRIMARY KEY(Codigo)\n",
    ") AS SELECT\n",
    "    Codigo,\n",
    "    NomeMedicamento\n",
    "FROM CSVREAD('../../../data/nhanes/medications-drug.csv');\n",
    "\n",
    "CREATE TABLE UsoMedicamento (\n",
    "  IdPessoa VARCHAR(5) NOT NULL,\n",
    "  CodMedicamento VARCHAR(6) NOT NULL,\n",
    "  DiasUso INTEGER,\n",
    "  FOREIGN KEY(IdPessoa)\n",
    "    REFERENCES Pessoa(Id)\n",
    "      ON DELETE NO ACTION\n",
    "      ON UPDATE NO ACTION,\n",
    "  FOREIGN KEY(CodMedicamento)\n",
    "    REFERENCES Medicamento(Codigo)\n",
    "      ON DELETE NO ACTION\n",
    "      ON UPDATE NO ACTION\n",
    ") AS SELECT\n",
    "    IdPessoa,\n",
    "    CodMedicamento,\n",
    "    DiasUso\n",
    "FROM CSVREAD('../../../data/nhanes/medications-use.csv');"
   ]
  },
  {
   "cell_type": "code",
   "execution_count": 3,
   "metadata": {},
   "outputs": [
    {
     "data": {
      "application/vnd.jupyter.widget-view+json": {
       "model_id": "29a3f69f-7dc0-4ff0-81b1-c1a6bc23cd25",
       "version_major": 2,
       "version_minor": 0
      },
      "method": "display_data"
     },
     "metadata": {},
     "output_type": "display_data"
    },
    {
     "data": {
      "application/vnd.jupyter.widget-view+json": {
       "model_id": "fffb9421-6d8b-4328-8712-511693581c5c",
       "version_major": 2,
       "version_minor": 0
      },
      "method": "display_data"
     },
     "metadata": {},
     "output_type": "display_data"
    },
    {
     "data": {
      "application/vnd.jupyter.widget-view+json": {
       "model_id": "297f3e92-29f8-42d3-9023-fa2762281960",
       "version_major": 2,
       "version_minor": 0
      },
      "method": "display_data"
     },
     "metadata": {},
     "output_type": "display_data"
    }
   ],
   "source": [
    "SELECT * FROM Pessoa;\n",
    "SELECT * FROM Medicamento;\n",
    "SELECT * FROM UsoMedicamento;"
   ]
  },
  {
   "cell_type": "markdown",
   "metadata": {},
   "source": [
    "# I. Análise de comportamento estatístico"
   ]
  },
  {
   "cell_type": "markdown",
   "metadata": {},
   "source": [
    "## 1) Contabilizando o uso de medicamentos\n",
    "\n",
    "* Liste o nome de todos os medicamentos e a quantidade de pessoas que usa cada um deles."
   ]
  },
  {
   "cell_type": "code",
   "execution_count": 4,
   "metadata": {},
   "outputs": [
    {
     "data": {
      "application/vnd.jupyter.widget-view+json": {
       "model_id": "57443e8d-624a-48d4-a153-14ce4a454365",
       "version_major": 2,
       "version_minor": 0
      },
      "method": "display_data"
     },
     "metadata": {},
     "output_type": "display_data"
    }
   ],
   "source": [
    "SELECT med.NomeMedicamento, COUNT(*) Quantidade_de_Pessoas\n",
    "    FROM Medicamento med, UsoMedicamento uso\n",
    "    WHERE med.Codigo = uso.CodMedicamento\n",
    "    GROUP BY med.NomeMedicamento"
   ]
  },
  {
   "cell_type": "markdown",
   "metadata": {},
   "source": [
    "## 2) Medicamento mais usado com VIEW\n",
    "\n",
    "* Informe o código do medicamento mais usado: fazendo uso de VIEW."
   ]
  },
  {
   "cell_type": "code",
   "execution_count": 5,
   "metadata": {},
   "outputs": [],
   "source": [
    "CREATE VIEW MedicamentosQuantidade AS\n",
    "    SELECT CodMedicamento Codigo, COUNT(*) Quantidade_de_Pessoas\n",
    "    FROM UsoMedicamento\n",
    "    GROUP BY CodMedicamento;"
   ]
  },
  {
   "cell_type": "code",
   "execution_count": 6,
   "metadata": {},
   "outputs": [
    {
     "data": {
      "text/plain": [
       "d00732"
      ]
     },
     "execution_count": 6,
     "metadata": {},
     "output_type": "execute_result"
    }
   ],
   "source": [
    "SELECT Codigo \n",
    "    FROM MedicamentosQuantidade \n",
    "    WHERE Quantidade_de_Pessoas = (SELECT MAX(Quantidade_de_Pessoas) FROM MedicamentosQuantidade);"
   ]
  },
  {
   "cell_type": "markdown",
   "metadata": {},
   "source": [
    "## 3) Medicamento mais usado sem VIEW\n",
    "\n",
    "* Informe o código do medicamento mais usado: sem fazer uso de VIEW."
   ]
  },
  {
   "cell_type": "code",
   "execution_count": 7,
   "metadata": {},
   "outputs": [
    {
     "data": {
      "application/vnd.jupyter.widget-view+json": {
       "model_id": "2ee7abb2-2c99-4f70-9b27-48b8a8466bb8",
       "version_major": 2,
       "version_minor": 0
      },
      "method": "display_data"
     },
     "metadata": {},
     "output_type": "display_data"
    }
   ],
   "source": [
    "SELECT CodMedicamento Codigo, COUNT(*) Quantidade_de_Pessoas\n",
    "    FROM UsoMedicamento\n",
    "    GROUP BY CodMedicamento\n",
    "    ORDER BY Quantidade_de_Pessoas DESC\n",
    "    LIMIT 1;"
   ]
  },
  {
   "cell_type": "markdown",
   "metadata": {},
   "source": [
    "## 4) Nome do medicamento mais usado\n",
    "* Informe o nome do medicamento mais usado (uso de VIEW é opcional)."
   ]
  },
  {
   "cell_type": "code",
   "execution_count": 8,
   "metadata": {},
   "outputs": [
    {
     "data": {
      "text/plain": [
       "LISINOPRIL"
      ]
     },
     "execution_count": 8,
     "metadata": {},
     "output_type": "execute_result"
    }
   ],
   "source": [
    "SELECT med.NomeMedicamento\n",
    "    FROM Medicamento med, MedicamentosQuantidade medQ\n",
    "    WHERE medQ.Quantidade_de_Pessoas = (SELECT MAX(Quantidade_de_Pessoas) FROM MedicamentosQuantidade) AND\n",
    "        med.Codigo = medQ.Codigo;"
   ]
  },
  {
   "cell_type": "markdown",
   "metadata": {},
   "source": [
    "## 5) Contabilizando quanto as pessoas usam de medicamento\n",
    "\n",
    "* Informe o número médio de uso de medicamento por pessoa."
   ]
  },
  {
   "cell_type": "code",
   "execution_count": 9,
   "metadata": {},
   "outputs": [],
   "source": [
    "CREATE VIEW UsoPessoas AS\n",
    "    SELECT pessoa.Id id, COUNT(*) medicamentos\n",
    "        FROM Pessoa pessoa, UsoMedicamento uso\n",
    "        WHERE pessoa.Id = uso.IdPessoa\n",
    "        GROUP BY pessoa.Id;"
   ]
  },
  {
   "cell_type": "code",
   "execution_count": 10,
   "metadata": {},
   "outputs": [
    {
     "data": {
      "text/plain": [
       "3"
      ]
     },
     "execution_count": 10,
     "metadata": {},
     "output_type": "execute_result"
    }
   ],
   "source": [
    "SELECT AVG(medicamentos) FROM UsoPessoas;"
   ]
  },
  {
   "cell_type": "markdown",
   "metadata": {},
   "source": [
    "## 6) Pessoas que usam mais do que a média\n",
    "\n",
    "* Liste o id das pessoas que usam mais medicamentos do que a média."
   ]
  },
  {
   "cell_type": "code",
   "execution_count": 11,
   "metadata": {},
   "outputs": [
    {
     "data": {
      "application/vnd.jupyter.widget-view+json": {
       "model_id": "602d3e5f-f794-4d4f-b975-4bdb2d1be26b",
       "version_major": 2,
       "version_minor": 0
      },
      "method": "display_data"
     },
     "metadata": {},
     "output_type": "display_data"
    }
   ],
   "source": [
    "SELECT id, medicamentos\n",
    "    FROM UsoPessoas\n",
    "    WHERE medicamentos > (SELECT AVG(medicamentos) FROM UsoPessoas);"
   ]
  },
  {
   "cell_type": "markdown",
   "metadata": {},
   "source": [
    "## 7) Análise do uso de medicamento\n",
    "\n",
    "* Considere que um médico quer fazer responder a seguinte questão: pessoas tendem a usar mais medicamentos conforme ficam mais velhas?\n",
    "* Escreva uma query que ajude o médico a realizar esta análise."
   ]
  },
  {
   "cell_type": "code",
   "execution_count": 12,
   "metadata": {},
   "outputs": [
    {
     "data": {
      "application/vnd.jupyter.widget-view+json": {
       "model_id": "aad57bda-1a64-489f-8c25-af0e713e4a9d",
       "version_major": 2,
       "version_minor": 0
      },
      "method": "display_data"
     },
     "metadata": {},
     "output_type": "display_data"
    }
   ],
   "source": [
    "/*Utilizando a VIEW criada no exercício 5*/\n",
    "SELECT P.Idade, AVG(uso.medicamentos)\n",
    "    FROM Pessoa P, UsoPessoas uso\n",
    "    WHERE P.Id = uso.Id\n",
    "    GROUP BY P.Idade\n",
    "    ORDER BY P.Idade;"
   ]
  },
  {
   "cell_type": "markdown",
   "metadata": {},
   "source": [
    "# II. Análise de correlação em pares\n",
    "## Estudo de ação cruzada entre medicamentos\n",
    "\n",
    "* Um pesquisador quer estudar o efeito cruzado de usar dois medicamentos simultaneamente. \n",
    "* Para isso ele precisará da seguinte sequência de queries."
   ]
  },
  {
   "cell_type": "markdown",
   "metadata": {},
   "source": [
    "## 8) Medicamentos tomados em conjunto\n",
    "* Construa uma VIEW com duas colunas: medicamentoA, medicamentoB\n",
    "* Nessa VIEW, é criada uma tupla (medicamentoA, medicamentoB) toda vez que uma pessoa toma o medicamento A e também o medicamento B.\n",
    "* Haverá repetição de tuplas, já que mais de uma pessoa pode tomar o mesmo par de medicamentos.\n",
    "* Cuidado para não duplicar a mesma informação, ou seja, considerando que uma pessoa tomou o medicamentoX e o medicamentoY, cuidado para não criar duas tuplas: (medicamentoX, medicamentoY) e (medicamentoY, medicamentoX)."
   ]
  },
  {
   "cell_type": "code",
   "execution_count": null,
   "metadata": {},
   "outputs": [],
   "source": []
  },
  {
   "cell_type": "markdown",
   "metadata": {},
   "source": [
    "## 9) Total de medicamento tomados em conjunto\n",
    "* Apresente o total de pessoas que toma cada par de medicamentos."
   ]
  },
  {
   "cell_type": "code",
   "execution_count": null,
   "metadata": {},
   "outputs": [],
   "source": []
  },
  {
   "cell_type": "markdown",
   "metadata": {},
   "source": [
    "# III. Análise de correlação entre variáveis\n",
    "* Consiste na análise da seguinte questão: como a alteração de uma variável afeta a outra.\n",
    "## Matriz de análise\n",
    "* Considere a matriz abaixo."
   ]
  },
  {
   "cell_type": "code",
   "execution_count": 4,
   "metadata": {},
   "outputs": [
    {
     "data": {
      "application/vnd.jupyter.widget-view+json": {
       "model_id": "1f49994c-de79-460b-8fc6-c28781c1ae07",
       "version_major": 2,
       "version_minor": 0
      },
      "method": "display_data"
     },
     "metadata": {},
     "output_type": "display_data"
    }
   ],
   "source": [
    "CREATE TABLE Matriz (\n",
    "  Id VARCHAR(5) NOT NULL,\n",
    "  Genero INTEGER,\n",
    "  Idade INTEGER,\n",
    "  IdadeAte60 BOOLEAN,\n",
    "  MaisUmAnoMedicamento BOOLEAN,\n",
    "  MedicamentosAcimaMedia BOOLEAN,\n",
    "  PRIMARY KEY(Id)\n",
    ") AS SELECT\n",
    "    Id,\n",
    "    Genero,\n",
    "    Idade,\n",
    "    FALSE, FALSE, FALSE\n",
    "FROM CSVREAD('../../../data/nhanes/demographic-person.csv');\n",
    "\n",
    "SELECT * FROM Matriz;"
   ]
  },
  {
   "cell_type": "markdown",
   "metadata": {},
   "source": [
    "## 10) Atualização simples da matriz\n",
    "* Utilize o comando UPDATE para atualizar a coluna IdadeAte60 da tabela colocando verdadeiro para as pessoas que têm até 60 anos de idade."
   ]
  },
  {
   "cell_type": "code",
   "execution_count": null,
   "metadata": {},
   "outputs": [],
   "source": []
  },
  {
   "cell_type": "markdown",
   "metadata": {},
   "source": [
    "## 11) Atualização vinculada a uma segunda tabela\n",
    "* Utilize o comando UPDATE para atualizar a coluna MaisUmAnoMedicamento, colocando verdadeiro para aquelas pessoas que usam pelo menos um medicamento há mais de um ano."
   ]
  },
  {
   "cell_type": "code",
   "execution_count": null,
   "metadata": {},
   "outputs": [],
   "source": []
  },
  {
   "cell_type": "markdown",
   "metadata": {},
   "source": [
    "## 12) Atualização baseada em uma consulta complexa\n",
    "* Utilize o comando UPDATE para atualizar a coluna MedicamentosAcimaMedia, colocando verdadeiro para aquelas pessoas que usam um número de medicamentos acima da média."
   ]
  },
  {
   "cell_type": "code",
   "execution_count": null,
   "metadata": {},
   "outputs": [],
   "source": []
  },
  {
   "cell_type": "markdown",
   "metadata": {},
   "source": [
    "## 13) Que análise interessante pode ser feita?\n",
    "* A partir da Matriz criada, proponha uma análise interessante."
   ]
  },
  {
   "cell_type": "markdown",
   "metadata": {},
   "source": [
    "### 13a) Descreva a seguir (em Markdown) qual a análise que você propõe."
   ]
  },
  {
   "cell_type": "code",
   "execution_count": null,
   "metadata": {},
   "outputs": [],
   "source": []
  },
  {
   "cell_type": "markdown",
   "metadata": {},
   "source": [
    "### 13b) Escreva uma consulta em SQL que fornece informações para a análise proposta."
   ]
  },
  {
   "cell_type": "code",
   "execution_count": null,
   "metadata": {},
   "outputs": [],
   "source": []
  }
 ],
 "metadata": {
  "kernelspec": {
   "display_name": "SQL",
   "language": "SQL",
   "name": "sql"
  },
  "language_info": {
   "codemirror_mode": "sql",
   "file_extension": ".sql",
   "mimetype": "",
   "name": "SQL",
   "nbconverter_exporter": "",
   "version": ""
  }
 },
 "nbformat": 4,
 "nbformat_minor": 4
}
