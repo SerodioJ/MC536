{
 "cells": [
  {
   "cell_type": "code",
   "execution_count": 1,
   "metadata": {},
   "outputs": [],
   "source": [
    "%defaultDatasource jdbc:h2:mem:db"
   ]
  },
  {
   "cell_type": "code",
   "execution_count": 2,
   "metadata": {},
   "outputs": [],
   "source": [
    "DROP TABLE IF EXISTS Drug;\n",
    "DROP TABLE IF EXISTS Pathology;\n",
    "DROP TABLE IF EXISTS DrugUse;\n",
    "\n",
    "CREATE TABLE Drug (\n",
    "  code INT NOT NULL,\n",
    "  name VARCHAR(200) NOT NULL,\n",
    "  PRIMARY KEY(code)\n",
    ") AS SELECT\n",
    "    code,\n",
    "    name\n",
    "FROM CSVREAD('../../data/faers-2017/drug.csv');\n",
    "\n",
    "CREATE TABLE Pathology (\n",
    "  code INT NOT NULL,\n",
    "  name VARCHAR(200) NOT NULL,\n",
    "  PRIMARY KEY(code)\n",
    ") AS SELECT\n",
    "    code,\n",
    "    name\n",
    "FROM CSVREAD('../../data/faers-2017/pathology.csv');\n",
    "\n",
    "CREATE TABLE DrugUse (\n",
    "  idPerson INT NOT NULL,\n",
    "  codePathology INT NOT NULL,\n",
    "  codeDrug INT NOT NULL,\n",
    "  FOREIGN KEY(codePathology)\n",
    "    REFERENCES Pathology(code)\n",
    "      ON DELETE NO ACTION\n",
    "      ON UPDATE NO ACTION,\n",
    "  FOREIGN KEY(codeDrug)\n",
    "    REFERENCES Drug(code)\n",
    "      ON DELETE NO ACTION\n",
    "      ON UPDATE NO ACTION,\n",
    ") AS SELECT\n",
    "    idPerson,\n",
    "    codePathology,\n",
    "    codeDrug\n",
    "FROM CSVREAD('../../data/faers-2017/drug-use.csv');\n",
    "\n",
    "CREATE TABLE SideEffect(\n",
    "  idPerson INT NOT NULL,\n",
    "  codePathology INT NOT NULL,\n",
    "  FOREIGN KEY(codePathology)\n",
    "    REFERENCES Pathology(code)\n",
    "      ON DELETE NO ACTION\n",
    "      ON UPDATE NO ACTION\n",
    ") AS SELECT idPerson, codePathology\n",
    "FROM CSVREAD('../../data/faers-2017/sideeffect.csv');"
   ]
  },
  {
   "cell_type": "code",
   "execution_count": 3,
   "metadata": {},
   "outputs": [
    {
     "data": {
      "application/vnd.jupyter.widget-view+json": {
       "model_id": "3b50b4d8-816a-45c9-bda7-ef357357b919",
       "version_major": 2,
       "version_minor": 0
      },
      "method": "display_data"
     },
     "metadata": {},
     "output_type": "display_data"
    },
    {
     "data": {
      "application/vnd.jupyter.widget-view+json": {
       "model_id": "12a44d5f-05c4-45f7-85bf-9838a73c6c5d",
       "version_major": 2,
       "version_minor": 0
      },
      "method": "display_data"
     },
     "metadata": {},
     "output_type": "display_data"
    },
    {
     "data": {
      "application/vnd.jupyter.widget-view+json": {
       "model_id": "0bd69b54-df8e-4244-82c5-6c6516ae884f",
       "version_major": 2,
       "version_minor": 0
      },
      "method": "display_data"
     },
     "metadata": {},
     "output_type": "display_data"
    },
    {
     "data": {
      "application/vnd.jupyter.widget-view+json": {
       "model_id": "a01c06bf-1c39-4b52-8f83-59dfa79bfdaa",
       "version_major": 2,
       "version_minor": 0
      },
      "method": "display_data"
     },
     "metadata": {},
     "output_type": "display_data"
    }
   ],
   "source": [
    "SELECT * FROM Drug;\n",
    "SELECT * FROM Pathology;\n",
    "SELECT * FROM DrugUse;\n",
    "SELECT * FROM SideEffect;"
   ]
  },
  {
   "cell_type": "markdown",
   "metadata": {},
   "source": [
    "# FDA Adverse Event Reporting System (FAERS)\n",
    "\n",
    "Considere a base de dados que reúne relatos de efeitos adversos de drogas: [FDA Adverse Event Reporting System (FAERS)](https://open.fda.gov/data/faers/).\n",
    "\n",
    "As fontes de dados são publicadas e documentadas em: [Latest Quarterly Data Files](https://www.fda.gov/drugs/fda-adverse-event-reporting-system-faers/fda-adverse-event-reporting-system-faers-latest-quarterly-data-files)"
   ]
  },
  {
   "cell_type": "markdown",
   "metadata": {},
   "source": [
    "# Interação entre medicamentos\n",
    "Considere como uma interação toda vez que um medicamento A é tomado em conjunto com um medicamento B por uma pessoa. Crie uma consulta que retorne para cada par de medicamento A,B o número de interações, somente para aqueles medicamentos que são tomados em conjunto mais de 30 vezes (passaremos a chamar de **grupo mais 30**)."
   ]
  },
  {
   "cell_type": "code",
   "execution_count": 4,
   "metadata": {},
   "outputs": [
    {
     "data": {
      "application/vnd.jupyter.widget-view+json": {
       "model_id": "2185f729-b10c-4447-83c1-4ea9d0759f19",
       "version_major": 2,
       "version_minor": 0
      },
      "method": "display_data"
     },
     "metadata": {},
     "output_type": "display_data"
    }
   ],
   "source": [
    "DROP VIEW IF EXISTS PersonDrugUse;\n",
    "CREATE VIEW PersonDrugUse AS\n",
    "SELECT idPerson, codeDrug\n",
    "    FROM DrugUse\n",
    "    GROUP BY idPerson,codeDrug;\n",
    "SELECT * FROM PersonDrugUse;"
   ]
  },
  {
   "cell_type": "code",
   "execution_count": 5,
   "metadata": {},
   "outputs": [],
   "source": [
    "-- Tempo de execução muito longo, pode estourar a memória no binder\n",
    "-- DROP VIEW IF EXISTS DrugInteraction;\n",
    "-- CREATE VIEW DrugInteraction AS\n",
    "-- SELECT PDU1.codedrug druga, PDU2.codedrug drugb, COUNT(*) weight\n",
    "--     FROM PersonDrugUse as PDU1, PersonDrugUse as PDU2\n",
    "--     WHERE PDU1.idPerson = PDU2.idPerson AND\n",
    "--           PDU1.codeDrug < PDU2.codeDrug\n",
    "--     GROUP BY PDU1.codedrug, PDU2.codedrug;\n",
    "-- SELECT * FROM DrugI30;"
   ]
  },
  {
   "cell_type": "code",
   "execution_count": 6,
   "metadata": {},
   "outputs": [],
   "source": [
    "DROP TABLE IF EXISTS DrugInteraction;\n",
    "CREATE TABLE DrugInteraction (\n",
    "  druga INT NOT NULL,\n",
    "  drugb INT NOT NULL,\n",
    "  weight INT NOT NULL,\n",
    "  PRIMARY KEY(druga, drugb)\n",
    ") AS SELECT\n",
    "    druga,\n",
    "    drugb,\n",
    "    weight\n",
    "FROM CSVREAD('../../data/faers-2017/results/my-drug-interaction.csv');"
   ]
  },
  {
   "cell_type": "code",
   "execution_count": 7,
   "metadata": {},
   "outputs": [],
   "source": [
    "CREATE VIEW IF NOT EXISTS DrugI30 AS\n",
    "SELECT * FROM DrugInteraction WHERE weight > 30;"
   ]
  },
  {
   "cell_type": "markdown",
   "metadata": {},
   "source": [
    "## Tabela Resultante\n",
    "\n",
    "Se estiver demorando muito para gerar a tabela, você poderá usar a seguinte tabela resultante pronta. Essa tabela tem todas as interações, você ainda precisará filtrar o **grupo mais 30**."
   ]
  },
  {
   "cell_type": "code",
   "execution_count": 8,
   "metadata": {},
   "outputs": [],
   "source": [
    "-- NÃO ESTÁ SENDO UTILIZADA\n",
    "-- CREATE TABLE DrugInteraction (\n",
    "--   druga INT NOT NULL,\n",
    "--   drugb INT NOT NULL,\n",
    "--   weight INT NOT NULL,\n",
    "--   PRIMARY KEY(druga, drugb)\n",
    "-- ) AS SELECT\n",
    "--     druga,\n",
    "--     drugb,\n",
    "--     weight\n",
    "-- FROM CSVREAD('../../data/faers-2017/results/drug-interaction.csv');\n",
    "\n",
    "-- SELECT * FROM DrugInteraction;"
   ]
  },
  {
   "cell_type": "markdown",
   "metadata": {},
   "source": [
    "# Suporte\n",
    "\n",
    "### Qual o suporte que cada uma das associações tem?\n",
    "\n",
    "Gere uma consulta que apresente o suporte do **grupo mais 30**. Ordene o resultado por ordem de suporte. \n",
    "\n",
    "Observação: Para que o resultado da divisão seja fracionária, converta o numerador em `DOUBLE` usando:\n",
    "~~~sql\n",
    "CAST(campo AS DOUBLE)\n",
    "~~~"
   ]
  },
  {
   "cell_type": "code",
   "execution_count": 9,
   "metadata": {},
   "outputs": [
    {
     "data": {
      "application/vnd.jupyter.widget-view+json": {
       "model_id": "61a3c8fd-c3ab-4599-bf13-7c026abf3405",
       "version_major": 2,
       "version_minor": 0
      },
      "method": "display_data"
     },
     "metadata": {},
     "output_type": "display_data"
    }
   ],
   "source": [
    "SELECT druga, drugb, (CAST(weight AS DOUBLE)/(SELECT COUNT(*) FROM (SELECT COUNT(*) FROM PersonDrugUse GROUP BY idPerson))) suporte\n",
    "    FROM DrugInteraction\n",
    "    WHERE weight > 30\n",
    "    ORDER BY suporte DESC;"
   ]
  },
  {
   "cell_type": "code",
   "execution_count": 10,
   "metadata": {},
   "outputs": [
    {
     "data": {
      "application/vnd.jupyter.widget-view+json": {
       "model_id": "2e47bfaa-c6ab-4ec2-bfae-0c525d71f098",
       "version_major": 2,
       "version_minor": 0
      },
      "method": "display_data"
     },
     "metadata": {},
     "output_type": "display_data"
    },
    {
     "data": {
      "application/vnd.jupyter.widget-view+json": {
       "model_id": "25e848aa-e041-4f72-9ca3-7ad537b1b179",
       "version_major": 2,
       "version_minor": 0
      },
      "method": "display_data"
     },
     "metadata": {},
     "output_type": "display_data"
    }
   ],
   "source": [
    "SELECT COUNT(*) FROM (SELECT COUNT(*) FROM PersonDrugUse GROUP BY idPerson);\n",
    "SELECT DISTINCT COUNT(idPerson) FROM DrugUse"
   ]
  },
  {
   "cell_type": "markdown",
   "metadata": {},
   "source": [
    "# Confiança\n",
    "\n",
    "### Qual a confiança que cada uma das associações tem?\n",
    "\n",
    "Gere uma consulta que apresente a confiança do **grupo mais 30**. Ordene o resultado por ordem de confiança."
   ]
  },
  {
   "cell_type": "code",
   "execution_count": 11,
   "metadata": {},
   "outputs": [
    {
     "data": {
      "application/vnd.jupyter.widget-view+json": {
       "model_id": "b03984d5-1da3-47d0-b560-2f96557b6376",
       "version_major": 2,
       "version_minor": 0
      },
      "method": "display_data"
     },
     "metadata": {},
     "output_type": "display_data"
    }
   ],
   "source": [
    "SELECT DI.druga A, DI.drugb B,(CAST(DI.weight AS DOUBLE)/(COUNT(PDU.codedrug))) confianca\n",
    "    FROM DrugInteraction DI, PersonDrugUse PDU\n",
    "    WHERE DI.weight > 30 AND\n",
    "          PDU.codedrug = DI.druga\n",
    "    GROUP BY DI.druga, DI.drugb\n",
    "UNION\n",
    "SELECT DI.drugb A, DI.druga B,(CAST(DI.weight AS DOUBLE)/(COUNT(PDU.codedrug))) confianca\n",
    "    FROM DrugInteraction DI, PersonDrugUse PDU\n",
    "    WHERE DI.weight > 30 AND\n",
    "          PDU.codedrug = DI.drugb\n",
    "    GROUP BY DI.druga, DI.drugb\n",
    "    ORDER BY confianca DESC;"
   ]
  },
  {
   "cell_type": "markdown",
   "metadata": {},
   "source": [
    "# Efeito Colateral\n",
    "\n",
    "Para cada medicamento, qual o percentual do medicamento A que tem efeito colateral junto com o medicamento B, quando comparado com seu uso sem o medicamento B."
   ]
  },
  {
   "cell_type": "code",
   "execution_count": 12,
   "metadata": {},
   "outputs": [
    {
     "data": {
      "application/vnd.jupyter.widget-view+json": {
       "model_id": "64a7617b-b394-418c-83d8-9e0ef1bbc5de",
       "version_major": 2,
       "version_minor": 0
      },
      "method": "display_data"
     },
     "metadata": {},
     "output_type": "display_data"
    }
   ],
   "source": [
    "CREATE VIEW IF NOT EXISTS PersonSideEffects AS\n",
    "SELECT idPerson, COUNT(*) sideEffects\n",
    "    FROM SideEffect\n",
    "    GROUP BY idPerson;\n",
    "SELECT * FROM PersonSideEffects;"
   ]
  },
  {
   "cell_type": "code",
   "execution_count": 13,
   "metadata": {},
   "outputs": [
    {
     "data": {
      "application/vnd.jupyter.widget-view+json": {
       "model_id": "e2b3ac85-07d4-4c5e-8a97-7a23dcb1bb9f",
       "version_major": 2,
       "version_minor": 0
      },
      "method": "display_data"
     },
     "metadata": {},
     "output_type": "display_data"
    }
   ],
   "source": [
    "SELECT DI.druga A, DI.drugb B, SUM(PSE.sideEffects)/\n",
    "    ((SELECT SUM (PSE2.sideEffects) FROM PersonSideEffects PSE2, PersonDrugUse PDU3 WHERE PDU3.codedrug = DI.druga AND PSE2.idPerson = PDU3.idPerson) \n",
    "    -SUM(PSE.sideEffects)) AB_woB\n",
    "    FROM DrugInteraction DI, PersonDrugUse PDU1, PersonDrugUse PDU2, PersonSideEffects PSE\n",
    "    WHERE DI.weight > 30 AND\n",
    "          PDU1.codedrug = DI.druga AND\n",
    "          PDU2.codedrug = DI.drugb AND\n",
    "          PDU1.idPerson = PDU2.idPerson AND\n",
    "          PSE.idPerson = PDU1.idPerson \n",
    "    GROUP BY DI.druga, DI.drugb\n",
    "    \n",
    "UNION\n",
    "\n",
    "SELECT DI.drugb A, DI.druga B, CAST(SUM(PSE.sideEffects) AS DOUBLE)/\n",
    "    ((SELECT SUM (PSE2.sideEffects) FROM PersonSideEffects PSE2, PersonDrugUse PDU3 WHERE PDU3.codedrug = DI.drugb AND PSE2.idPerson = PDU3.idPerson) \n",
    "    -SUM(PSE.sideEffects)) AB_woB\n",
    "    FROM DrugInteraction DI, PersonDrugUse PDU1, PersonDrugUse PDU2, PersonSideEffects PSE\n",
    "    WHERE DI.weight > 30 AND\n",
    "          PDU1.codedrug = DI.druga AND\n",
    "          PDU2.codedrug = DI.drugb AND\n",
    "          PDU1.idPerson = PDU2.idPerson AND\n",
    "          PSE.idPerson = PDU1.idPerson \n",
    "    GROUP BY DI.druga, DI.drugb\n",
    "    ORDER BY AB_woB DESC;"
   ]
  },
  {
   "cell_type": "code",
   "execution_count": null,
   "metadata": {},
   "outputs": [],
   "source": []
  }
 ],
 "metadata": {
  "kernelspec": {
   "display_name": "SQL",
   "language": "SQL",
   "name": "sql"
  },
  "language_info": {
   "codemirror_mode": "sql",
   "file_extension": ".sql",
   "mimetype": "",
   "name": "SQL",
   "nbconverter_exporter": "",
   "version": ""
  },
  "toc": {
   "base_numbering": 1,
   "nav_menu": {},
   "number_sections": false,
   "sideBar": false,
   "skip_h1_title": false,
   "title_cell": "Table of Contents",
   "title_sidebar": "Contents",
   "toc_cell": false,
   "toc_position": {},
   "toc_section_display": false,
   "toc_window_display": false
  }
 },
 "nbformat": 4,
 "nbformat_minor": 2
}
